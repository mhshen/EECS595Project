{
 "cells": [
  {
   "cell_type": "code",
   "execution_count": 1,
   "metadata": {},
   "outputs": [],
   "source": [
    "from datasets import load_dataset"
   ]
  },
  {
   "cell_type": "code",
   "execution_count": 2,
   "metadata": {},
   "outputs": [
    {
     "data": {
      "application/vnd.jupyter.widget-view+json": {
       "model_id": "c80648bb6b7e4767bb7f3f15bffe8634",
       "version_major": 2,
       "version_minor": 0
      },
      "text/plain": [
       "Resolving data files:   0%|          | 0/18 [00:00<?, ?it/s]"
      ]
     },
     "metadata": {},
     "output_type": "display_data"
    },
    {
     "data": {
      "application/vnd.jupyter.widget-view+json": {
       "model_id": "ed0007f950314dc8b26cbdc6029ded87",
       "version_major": 2,
       "version_minor": 0
      },
      "text/plain": [
       "Resolving data files:   0%|          | 0/18 [00:00<?, ?it/s]"
      ]
     },
     "metadata": {},
     "output_type": "display_data"
    },
    {
     "data": {
      "application/vnd.jupyter.widget-view+json": {
       "model_id": "2c0f7af6b4254724bce4f03d5439b6d8",
       "version_major": 2,
       "version_minor": 0
      },
      "text/plain": [
       "Resolving data files:   0%|          | 0/18 [00:00<?, ?it/s]"
      ]
     },
     "metadata": {},
     "output_type": "display_data"
    }
   ],
   "source": [
    "dataset = load_dataset(\"stanfordnlp/shp\")"
   ]
  },
  {
   "cell_type": "code",
   "execution_count": 3,
   "metadata": {},
   "outputs": [],
   "source": [
    "def transform_example(example):\n",
    "    history = example['history']\n",
    "    human_ref_A = example['human_ref_A']\n",
    "    human_ref_B = example['human_ref_B']\n",
    "    label = example['labels']\n",
    "\n",
    "    chosen_text = f\"Human: {history} Assistant: {human_ref_A}\" if label == 1 else f\"Human: {history} Assistant: {human_ref_B}\"\n",
    "    rejected_text = f\"Human: {history} Assistant: {human_ref_B}\" if label == 1 else f\"Human: {history} Assistant: {human_ref_A}\"\n",
    "\n",
    "    return {\n",
    "        'chosen': chosen_text,\n",
    "        'rejected': rejected_text\n",
    "    }"
   ]
  },
  {
   "cell_type": "code",
   "execution_count": 4,
   "metadata": {},
   "outputs": [
    {
     "data": {
      "application/vnd.jupyter.widget-view+json": {
       "model_id": "174f985c717a4fa89d86216cbbe976bc",
       "version_major": 2,
       "version_minor": 0
      },
      "text/plain": [
       "Map:   0%|          | 0/348718 [00:00<?, ? examples/s]"
      ]
     },
     "metadata": {},
     "output_type": "display_data"
    },
    {
     "data": {
      "application/vnd.jupyter.widget-view+json": {
       "model_id": "82208f2a29cc483181a9e670fecdd49a",
       "version_major": 2,
       "version_minor": 0
      },
      "text/plain": [
       "Map:   0%|          | 0/18436 [00:00<?, ? examples/s]"
      ]
     },
     "metadata": {},
     "output_type": "display_data"
    },
    {
     "data": {
      "application/vnd.jupyter.widget-view+json": {
       "model_id": "a1e1d63c250349b68b5e59ea7de9ecd4",
       "version_major": 2,
       "version_minor": 0
      },
      "text/plain": [
       "Map:   0%|          | 0/18409 [00:00<?, ? examples/s]"
      ]
     },
     "metadata": {},
     "output_type": "display_data"
    }
   ],
   "source": [
    "transformed_datasets = dataset.map(transform_example)"
   ]
  },
  {
   "cell_type": "code",
   "execution_count": 7,
   "metadata": {},
   "outputs": [
    {
     "data": {
      "text/plain": [
       "'Human: In an interview right before receiving the 2013 Nobel prize in physics, Peter Higgs stated that he wouldn\\'t be able to get an academic job today, because he wouldn\\'t be regarded as productive enough. > By the time he retired in 1996, he was uncomfortable with the new academic culture. \"After I retired it was quite a long time before I went back to my department. I thought I was well out of it. It wasn\\'t my way of doing things any more. Today I wouldn\\'t get an academic job. It\\'s as simple as that. I don\\'t think I would be regarded as productive enough.\"  Another interesting quote from the article is the following:  > He doubts a similar breakthrough could be achieved in today\\'s academic culture, because of the expectations on academics to collaborate and keep churning out papers. He said: \"It\\'s difficult to imagine how I would ever have enough peace and quiet in the present sort of climate to do what I did in 1964.\"  Source (the whole article is pretty interesting): http://theguardian.com/science/2013/dec/06/peter-higgs-boson-academic-system Assistant: It’s ironic to me that research has shown that productivity isn’t all it’s cracked up to be yet here we are.'"
      ]
     },
     "execution_count": 7,
     "metadata": {},
     "output_type": "execute_result"
    }
   ],
   "source": [
    "transformed_datasets[\"train\"][\"chosen\"][0]"
   ]
  }
 ],
 "metadata": {
  "kernelspec": {
   "display_name": "nlp",
   "language": "python",
   "name": "python3"
  },
  "language_info": {
   "codemirror_mode": {
    "name": "ipython",
    "version": 3
   },
   "file_extension": ".py",
   "mimetype": "text/x-python",
   "name": "python",
   "nbconvert_exporter": "python",
   "pygments_lexer": "ipython3",
   "version": "3.10.14"
  }
 },
 "nbformat": 4,
 "nbformat_minor": 2
}
